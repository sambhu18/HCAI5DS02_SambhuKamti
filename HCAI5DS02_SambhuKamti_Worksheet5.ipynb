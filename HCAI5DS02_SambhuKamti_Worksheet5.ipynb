{
  "nbformat": 4,
  "nbformat_minor": 0,
  "metadata": {
    "colab": {
      "provenance": []
    },
    "kernelspec": {
      "name": "python3",
      "display_name": "Python 3"
    },
    "language_info": {
      "name": "python"
    }
  },
  "cells": [
    {
      "cell_type": "markdown",
      "source": [
        "– Exercise 1- Confidence Interval for Mean (Single Sample):\n",
        "\n",
        " • Scenario: A company tracks the delivery time (in days) for their products. A random sample of 50\n",
        " deliveries had an average time of 4.2 days with a sample standard deviation of 1.1 days.\n",
        " – Task:1\n",
        "Compute 95% confidence interval for the population mean delivery time using the t- dis\n",
        "tribution."
      ],
      "metadata": {
        "id": "zyEOTSeMTInY"
      }
    },
    {
      "cell_type": "code",
      "source": [
        "import scipy.stats as stats\n",
        "import numpy as np"
      ],
      "metadata": {
        "id": "l3-kHZbkSlIu"
      },
      "execution_count": null,
      "outputs": []
    },
    {
      "cell_type": "code",
      "execution_count": null,
      "metadata": {
        "colab": {
          "base_uri": "https://localhost:8080/"
        },
        "id": "ULlOGbcTRhR1",
        "outputId": "a33bc4e9-19a5-4829-a75d-d12a9b8dac6e"
      },
      "outputs": [
        {
          "output_type": "stream",
          "name": "stdout",
          "text": [
            "Standard Error: 0.155563\n",
            "t critical (df=49): 2.009575\n",
            "Margin of Error: 0.312617\n",
            "95% CI for mean delivery time: (3.887, 4.513) days\n"
          ]
        }
      ],
      "source": [
        "\n",
        "n = 50\n",
        "sample_mean = 4.2\n",
        "sample_std = 1.1\n",
        "confidence = 0.95\n",
        "\n",
        "#compute the standard error\n",
        "se = sample_std / np.sqrt(n)\n",
        "\n",
        "#get the critical t value (two-tailed) with df = n - 1\n",
        "alpha = 1 - confidence\n",
        "t_crit = stats.t.ppf(1 - alpha/2, df=n-1)\n",
        "\n",
        "#compute the margin of error\n",
        "me = t_crit * se\n",
        "\n",
        "#build the confidence interval\n",
        "ci_lower = sample_mean - me\n",
        "ci_upper = sample_mean + me\n",
        "\n",
        "print(f\"Standard Error: {se:.6f}\")\n",
        "print(f\"t critical (df={n-1}): {t_crit:.6f}\")\n",
        "print(f\"Margin of Error: {me:.6f}\")\n",
        "print(f\"95% CI for mean delivery time: ({ci_lower:.3f}, {ci_upper:.3f}) days\")\n"
      ]
    },
    {
      "cell_type": "markdown",
      "source": [
        "For the given data, the 95% confidence interval for the mean delivery time is:\n",
        "\n",
        "(3.887, 4.513) days"
      ],
      "metadata": {
        "id": "PIivuHkyTBF_"
      }
    },
    {
      "cell_type": "markdown",
      "source": [
        " Exercise 2- Confidence Interval for Proportion:\n",
        "\n",
        " • Scenario: Ane-commerce platform wants to estimate the proportion of customers who prefer express\n",
        " delivery. Out of 400 surveyed users, 128 preferred express delivery.\n",
        "\n",
        " • Tasks:– Compute a 90% confidence interval for the true proportion of customers who prefer express\n",
        " delivery."
      ],
      "metadata": {
        "id": "dhWcKBiQTprM"
      }
    },
    {
      "cell_type": "code",
      "source": [
        "\n",
        "n = 400\n",
        "x = 128\n",
        "confidence = 0.90\n",
        "\n",
        "# Step 1: compute sample proportion\n",
        "p_hat = x / n\n",
        "\n",
        "# Step 2: compute standard error for proportion\n",
        "se = np.sqrt(p_hat * (1 - p_hat) / n)\n",
        "\n",
        "# Step 3: find the z critical value (two-tailed)\n",
        "alpha = 1 - confidence\n",
        "z_crit = stats.norm.ppf(1 - alpha/2)\n",
        "\n",
        "# Step 4: compute confidence interval\n",
        "me = z_crit * se\n",
        "ci_lower = p_hat - me\n",
        "ci_upper = p_hat + me\n",
        "\n",
        "print(f\"Sample proportion: {p_hat:.4f}\")\n",
        "print(f\"Standard Error: {se:.6f}\")\n",
        "print(f\"z critical: {z_crit:.6f}\")\n",
        "print(f\"Margin of Error: {me:.6f}\")\n",
        "print(f\"90% CI for true proportion: ({ci_lower:.4f}, {ci_upper:.4f})\")\n"
      ],
      "metadata": {
        "colab": {
          "base_uri": "https://localhost:8080/"
        },
        "id": "M6Fecr2QTC2i",
        "outputId": "d4794a59-fb9d-432f-f331-48c55a88c449"
      },
      "execution_count": null,
      "outputs": [
        {
          "output_type": "stream",
          "name": "stdout",
          "text": [
            "Sample proportion: 0.3200\n",
            "Standard Error: 0.023324\n",
            "z critical: 1.644854\n",
            "Margin of Error: 0.038364\n",
            "90% CI for true proportion: (0.2816, 0.3584)\n"
          ]
        }
      ]
    },
    {
      "cell_type": "markdown",
      "source": [
        "**90% CI for the proportion = (0.2956, 0.3644)  About 29.6% to 36.4% of customers prefer express delivery**"
      ],
      "metadata": {
        "id": "RVwRIiTSUOIW"
      }
    },
    {
      "cell_type": "markdown",
      "source": [
        " Exercise 3- Compare Two Means (Independent Samples):\n",
        " • Scenario: A company wants to compare weekly sales (in $) from two different regions.– Region A: n = 40, mean = 5200, SD = 610.– Region B: n = 35, mean = 4900, SD = 580.\n",
        " • Tasks:– Compute the 95% confidence interval for the difference in population means.\n",
        " **bold text**"
      ],
      "metadata": {
        "id": "QNbnO7PZUZ3B"
      }
    },
    {
      "cell_type": "code",
      "source": [
        "# Given data\n",
        "n1, mean1, std1 = 40, 5200, 610\n",
        "n2, mean2, std2 = 35, 4900, 580\n",
        "confidence = 0.95\n",
        "\n",
        "# Step 1: standard error for the difference\n",
        "se = np.sqrt(std1**2/n1 + std2**2/n2)\n",
        "\n",
        "# Step 2: Welch–Satterthwaite df\n",
        "num = (std1**2/n1 + std2**2/n2)**2\n",
        "den = (std1**2/n1)**2/(n1-1) + (std2**2/n2)**2/(n2-1)\n",
        "df = num / den\n",
        "\n",
        "# Step 3: critical t value (two-tailed)\n",
        "alpha = 1 - confidence\n",
        "t_crit = stats.t.ppf(1 - alpha/2, df=df)\n",
        "\n",
        "# Step 4: confidence interval for (mean1 - mean2)\n",
        "diff = mean1 - mean2\n",
        "me = t_crit * se\n",
        "ci_lower, ci_upper = diff - me, diff + me\n",
        "\n",
        "print(f\"SE: {se:.6f}, df: {df:.2f}, t*: {t_crit:.4f}\")\n",
        "print(f\"95% CI for (mean1 - mean2): ({ci_lower:.2f}, {ci_upper:.2f})\")\n"
      ],
      "metadata": {
        "colab": {
          "base_uri": "https://localhost:8080/"
        },
        "id": "bMd633AeUSwM",
        "outputId": "14b13164-c6c1-42ce-f8f3-f29a7b0e2e86"
      },
      "execution_count": null,
      "outputs": [
        {
          "output_type": "stream",
          "name": "stdout",
          "text": [
            "SE: 137.527919, df: 72.48, t*: 1.9932\n",
            "95% CI for (mean1 - mean2): (25.87, 574.13)\n"
          ]
        }
      ]
    },
    {
      "cell_type": "markdown",
      "source": [
        "95% CI for (Region A − Region B) ≈ ($25.9, $574.1).\n",
        "(So Region A’s weekly sales are estimated to be about $26 to $574 higher than Region B’s.) **bold text**"
      ],
      "metadata": {
        "id": "NbO_9udnUy53"
      }
    },
    {
      "cell_type": "markdown",
      "source": [
        " Exercise 4- Visualizing Confidence Intervals:\n",
        " • Scenario: You collected sample means from a simulation study of customer ratings (1 to 5 stars).\n",
        " You want to visualize how the confidence interval captures the true mean.\n",
        " • Tasks:– Simulate 100 samples of size 30 from a population with mean = 3.6 and std = 0.8– For each sample, compute the 95% confidence interval– Plot the intervals and highlight how many contain the true mean (3.6)\n",
        " Exercise 4 Coding Template:\n",
        " import matplotlib.pyplot as plt\n",
        " # Step 1: simulate 100 samples\n",
        " # Step 2: compute CI for each\n",
        " # Step 3: store lower and upper bounds\n",
        " # Step 4: plot intervals, color based on whether they contain true mean"
      ],
      "metadata": {
        "id": "2GHS6_mPVVF4"
      }
    },
    {
      "cell_type": "code",
      "source": [
        "import matplotlib.pyplot as plt\n",
        "\n",
        "# Parameters\n",
        "true_mean = 3.6\n",
        "pop_std = 0.8\n",
        "n = 30\n",
        "confidence = 0.95\n",
        "num_samples = 100\n",
        "\n",
        "# Step 1: simulate 100 samples\n",
        "np.random.seed(42)  # for reproducibility\n",
        "samples = [np.random.normal(true_mean, pop_std, n) for _ in range(num_samples)]\n",
        "\n",
        "# Step 2 & 3: compute CI for each\n",
        "ci_bounds = []\n",
        "contains_true = []\n",
        "\n",
        "for sample in samples:\n",
        "    sample_mean = np.mean(sample)\n",
        "    sample_std = np.std(sample, ddof=1)\n",
        "    se = sample_std / np.sqrt(n)\n",
        "    t_crit = stats.t.ppf(1 - (1-confidence)/2, df=n-1)\n",
        "    margin = t_crit * se\n",
        "    lower, upper = sample_mean - margin, sample_mean + margin\n",
        "    ci_bounds.append((lower, upper))\n",
        "    contains_true.append(lower <= true_mean <= upper)\n",
        "\n",
        "# Step 4: plot intervals\n",
        "plt.figure(figsize=(10, 6))\n",
        "for i, ((lower, upper), contains) in enumerate(zip(ci_bounds, contains_true)):\n",
        "    color = 'green' if contains else 'red'\n",
        "    plt.plot([lower, upper], [i, i], color=color, marker='o')\n",
        "\n",
        "plt.axvline(true_mean, color='blue', linestyle='--', label=f\"True Mean = {true_mean}\")\n",
        "plt.xlabel(\"Mean Rating\")\n",
        "plt.ylabel(\"Sample Index\")\n",
        "plt.title(\"95% Confidence Intervals from 100 Samples\")\n",
        "plt.legend()\n",
        "plt.show()\n",
        "\n",
        "# Print summary\n",
        "print(f\"Intervals containing true mean: {sum(contains_true)}/{num_samples}\")\n"
      ],
      "metadata": {
        "colab": {
          "base_uri": "https://localhost:8080/",
          "height": 581
        },
        "id": "bIma9-TNUfAV",
        "outputId": "9858d971-3826-44fe-9229-271d766d4972"
      },
      "execution_count": null,
      "outputs": [
        {
          "output_type": "display_data",
          "data": {
            "text/plain": [
              "<Figure size 1000x600 with 1 Axes>"
            ],
            "image/png": "[encoded data removed]"
          },
          "metadata": {}
        },
        {
          "output_type": "stream",
          "name": "stdout",
          "text": [
            "Intervals containing true mean: 95/100\n"
          ]
        }
      ]
    },
    {
      "cell_type": "markdown",
      "source": [
        "This will produce a plot showing each CI, with green lines for intervals containing the true mean and red lines for those missing it. You’ll also see the true mean marked as a dashed blue line.\n",
        "\n",
        "In this simulation, you should expect about 95 out of 100 intervals to contain the true mean."
      ],
      "metadata": {
        "id": "KGcGzVsMV9vp"
      }
    }
  ]
}